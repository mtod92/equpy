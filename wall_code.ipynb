{
 "cells": [
  {
   "cell_type": "code",
   "execution_count": 1,
   "metadata": {},
   "outputs": [],
   "source": [
    "import numpy as np\n",
    "import matplotlib.pyplot as plt\n",
    "import time\n",
    "import csv\n",
    "\n",
    "np.seterr(invalid=\"ignore\");"
   ]
  },
  {
   "cell_type": "code",
   "execution_count": 36,
   "metadata": {},
   "outputs": [
    {
     "name": "stdout",
     "output_type": "stream",
     "text": [
      "['A', 'B', 'C', 'D']\n",
      "[[-2.  1.  1.  0.]\n",
      " [-1.  0.  0.  1.]]\n",
      "[ 1. 10.]\n",
      "[[1. 0. 2. 1.]\n",
      " [0. 1. 1. 0.]]\n",
      "[5. 2.]\n"
     ]
    }
   ],
   "source": [
    "filename = '/Users/todisco/Documents/Numerical_Wall_Implementation_Custom/case1/N.csv'\n",
    "\n",
    "N = []\n",
    "K = []\n",
    "C = []\n",
    "S = []\n",
    "\n",
    "with open(filename, newline='', encoding='utf-8-sig') as csvfile:\n",
    "    filecontent = csv.reader(csvfile, delimiter=' ', quotechar='|')\n",
    "    for i, row in enumerate(filecontent):\n",
    "        if i == 0:\n",
    "            lbls = row[0].split(',')[0:-1]\n",
    "        else:\n",
    "            N.append(row[0].split(',')[0:-1])\n",
    "            K.append(row[0].split(',')[-1])\n",
    "\n",
    "filename = '/Users/todisco/Documents/Numerical_Wall_Implementation_Custom/case1/C.csv'\n",
    "\n",
    "with open(filename, newline='', encoding='utf-8-sig') as csvfile:\n",
    "    filecontent = csv.reader(csvfile, delimiter=' ', quotechar='|')\n",
    "    for i, row in enumerate(filecontent):\n",
    "        if i > 0:\n",
    "            C.append(row[0].split(',')[0:-1])\n",
    "            S.append(row[0].split(',')[-1])\n",
    "\n",
    "N = np.array(N, dtype='float')\n",
    "K = np.array(K, dtype='float')\n",
    "C = np.array(C, dtype='float')\n",
    "S = np.array(S, dtype='float')\n",
    "\n",
    "print(lbls)\n",
    "print(N)\n",
    "print(K)\n",
    "print(C)\n",
    "print(S)"
   ]
  },
  {
   "cell_type": "code",
   "execution_count": 83,
   "metadata": {},
   "outputs": [],
   "source": [
    "N = np.array([[-2, -1, 1, 0],[-1, 0, 0, 1]])\n",
    "K = np.array([1, 10])\n",
    "S = np.array([5, 2])\n",
    "C = np.array([[1, 0, 2, 1],[0, 1, 1, 0]])"
   ]
  },
  {
   "cell_type": "code",
   "execution_count": 191,
   "metadata": {},
   "outputs": [
    {
     "name": "stdout",
     "output_type": "stream",
     "text": [
      "--- 2.049434411752451 milliseconds ---\n",
      "[[6.02567973 1.54737852 0.02567973 0.20271982 4.8538835 ]]\n"
     ]
    },
    {
     "data": {
      "image/png": "[encoded data removed]",
      "text/plain": [
       "<Figure size 432x288 with 1 Axes>"
      ]
     },
     "metadata": {
      "needs_background": "light"
     },
     "output_type": "display_data"
    }
   ],
   "source": [
    "\n",
    "r = 0\n",
    "start_time = time.time()\n",
    "for j in range(1000):\n",
    "    x = np.ones((1,np.shape(N)[1]))\n",
    "    delta = []\n",
    "\n",
    "    for i in range(10):\n",
    "        Cx = C*x\n",
    "        W = Cx/np.sum(Cx, axis=1)[:,None]\n",
    "        W_ = np.prod((W/C)**W, axis=1)*S\n",
    "\n",
    "        X = np.vstack((N, W))\n",
    "        A = np.log(x.T)\n",
    "        Y = np.log(np.hstack((K, W_)))\n",
    "\n",
    "        x = (x*r+np.exp(np.dot(np.linalg.pinv(X), Y)))/(r+1)\n",
    "        delta.append(np.linalg.norm(np.dot(X, A)-Y[:,None]))\n",
    "\n",
    "plt.plot(np.log10(delta))\n",
    "print(\"--- %s milliseconds ---\" % ((time.time() - start_time)/j*1000))\n",
    "print(x)"
   ]
  },
  {
   "cell_type": "code",
   "execution_count": 85,
   "metadata": {},
   "outputs": [
    {
     "name": "stdout",
     "output_type": "stream",
     "text": [
      "[[0.40360728 1.71984005 0.28015995 4.03607282]]\n",
      "--- 1.2667286503422368 milliseconds ---\n"
     ]
    },
    {
     "data": {
      "image/png": "[encoded data removed]",
      "text/plain": [
       "<Figure size 432x288 with 1 Axes>"
      ]
     },
     "metadata": {
      "needs_background": "light"
     },
     "output_type": "display_data"
    }
   ],
   "source": [
    "\n",
    "r = 0\n",
    "start_time = time.time()\n",
    "for j in range(1000):\n",
    "    x = np.ones((1,np.shape(N)[1]))\n",
    "    delta = []\n",
    "\n",
    "    for i in range(10):\n",
    "        x_, delta_ = solver(N, K, C, S, x)\n",
    "        x = (x*r+x_)/(r+1)\n",
    "        delta.append(delta_)\n",
    "\n",
    "print(x)\n",
    "plt.plot(np.log10(delta))\n",
    "print(\"--- %s milliseconds ---\" % ((time.time() - start_time)/j*1000))"
   ]
  },
  {
   "cell_type": "code",
   "execution_count": 16,
   "metadata": {},
   "outputs": [],
   "source": [
    "def solver(N, K, C, S, x):\n",
    "        \"\"\"\n",
    "        equpy implementation of Wall algorithm\n",
    "        - x: the float to be rounded\n",
    "        - precision (integer): the number of significant figures\n",
    "        \"\"\"\n",
    "\n",
    "        Cx = C*x\n",
    "        W = Cx/np.sum(Cx, axis=1)[:,None]\n",
    "        W_ = np.prod((W/C)**W, axis=1)*S\n",
    "\n",
    "        X = np.vstack((N, W))\n",
    "        A = np.log(x.T)\n",
    "        Y = np.log(np.hstack((K, W_)))\n",
    "\n",
    "        x = (x*r+np.exp(np.dot(np.linalg.pinv(X), Y)))/(r+1)\n",
    "        delta = np.linalg.norm(np.dot(X, A)-Y[:,None])\n",
    "\n",
    "        return x, delta"
   ]
  },
  {
   "cell_type": "code",
   "execution_count": 152,
   "metadata": {},
   "outputs": [],
   "source": [
    "def define_species_set(eq):\n",
    "    \"\"\"\n",
    "    Extract species involved in the reaction from symbolic equations\n",
    "    Parameters:\n",
    "    - eq: list of equations in symbolic form\n",
    "    \"\"\"\n",
    "    e_ = \" \".join(eq)\n",
    "    e_ = e_.split(\" \")\n",
    "\n",
    "    species_set = []\n",
    "\n",
    "    for l in e_:\n",
    "        if l != '+' and l != \"=\":\n",
    "            species_set.append(l)\n",
    "\n",
    "    for i, entry in enumerate(species_set):\n",
    "        if entry[0].isdigit():\n",
    "            entry_split = re.findall('\\d+|\\D+', entry)\n",
    "            species_set[i] = \"\".join(entry_split[1:])\n",
    "\n",
    "    return set(species_set)"
   ]
  },
  {
   "cell_type": "code",
   "execution_count": 4,
   "metadata": {},
   "outputs": [],
   "source": [
    "def define_reactions(eq):\n",
    "    \"\"\"\n",
    "    Converts symbolic equations defining chemical reactions to matrix form suitable for the solver\n",
    "    Parameters:\n",
    "    - eq: list of equations in symbolic form\n",
    "    \"\"\"\n",
    "      \n",
    "    species_set = define_species_set(eq)\n",
    "    n = len(species_set)\n",
    "    species = {string: index for index, string in enumerate(sorted(species_set))}\n",
    "\n",
    "    N = np.zeros((len(eq), n))\n",
    "\n",
    "    for i, eq_ in enumerate(eq):\n",
    "        eq_ = eq_.split('=')\n",
    "        eq_left = eq_[0].split('+')\n",
    "\n",
    "        for element in eq_left:\n",
    "            element = element.strip()\n",
    "            element_ = re.findall('\\d+|\\D+', element) #obtain blocks for every species\n",
    "\n",
    "            if len(element_) == 1:\n",
    "                N[i,species[element_[0]]] = -1\n",
    "            elif len(element_) > 1 and element_[0].isalpha():\n",
    "                N[i,species[\"\".join(element_)]] = -1\n",
    "            else:\n",
    "                N[i,species[\"\".join(element_[1:])]] = -int(element_[0])\n",
    "\n",
    "        eq_right = eq_[1].split('+')\n",
    "        for element in eq_right:\n",
    "            element = element.strip()\n",
    "            element_ = re.findall('\\d+|\\D+', element) #obtain blocks for every species\n",
    "\n",
    "            if len(element_) == 1:\n",
    "                N[i,species[element_[0]]] = 1\n",
    "            elif len(element_) > 1 and element_[0].isalpha():\n",
    "                N[i,species[\"\".join(element_)]] = 1\n",
    "            else:\n",
    "                N[i,species[\"\".join(element_[1:])]] = element_[0]\n",
    "\n",
    "    return N, n, species"
   ]
  },
  {
   "cell_type": "code",
   "execution_count": 164,
   "metadata": {},
   "outputs": [],
   "source": [
    "def define_conservations(eq, n, species):\n",
    "    \"\"\"\n",
    "    Converts symbolic equations defining mass conservations to matrix form suitable for the solver\n",
    "    Parameters:\n",
    "    - eq: list of equations in symbolic form\n",
    "    - n: number of reactions\n",
    "    - species: dictionary containing {name: index} of the species involved in the reactions\n",
    "    \"\"\"\n",
    "\n",
    "    pattern = r'(\\d*\\.?\\d*)?([A-Za-z\\d]+)'\n",
    "    M = np.zeros((len(eq), n))\n",
    "    eq = [eq_.replace(\"*\", \"\") for eq_ in eq]\n",
    "\n",
    "    for i, eq_ in enumerate(eq):\n",
    "        eq_ = eq_.split('+')\n",
    "\n",
    "        for element_ in eq_:\n",
    "            element_ = re.findall(pattern, element_)\n",
    "            element_ = [elem for elem in element_[0]]\n",
    "            if len(element_[0]) == 0:\n",
    "                 M[i,species[element_[1]]] = 1\n",
    "            else:\n",
    "                M[i,species[element_[1]]] = element_[0]\n",
    "\n",
    "    return M"
   ]
  },
  {
   "cell_type": "code",
   "execution_count": 131,
   "metadata": {},
   "outputs": [
    {
     "data": {
      "text/plain": [
       "True"
      ]
     },
     "execution_count": 131,
     "metadata": {},
     "output_type": "execute_result"
    }
   ],
   "source": [
    "pattern = r'(\\d*\\.?\\d+)([A-Za-z\\d]*)'\n",
    "pattern = r'(\\d*\\.?\\d*)?([A-Za-z\\d]+)'\n",
    "test = re.findall(pattern, 'A')\n",
    "test = [t for t in test[0]]\n",
    "len(test[0]) == 0"
   ]
  },
  {
   "cell_type": "code",
   "execution_count": null,
   "metadata": {},
   "outputs": [],
   "source": []
  },
  {
   "cell_type": "code",
   "execution_count": 169,
   "metadata": {},
   "outputs": [
    {
     "name": "stdout",
     "output_type": "stream",
     "text": [
      "[[-2.  2. -2.  0.  0.]\n",
      " [ 0. -2.  0. -1.  1.]]\n",
      "[[1.  1.  0.  0.  0.5]\n",
      " [0.  1.  1.  0.  0.5]]\n"
     ]
    }
   ],
   "source": [
    "reactions = ['A + 2B = AB2',\n",
    "    'AB2 + C = AB2C']\n",
    "\n",
    "K = [100, 10]\n",
    "\n",
    "reactions = ['2A + 2B = 2AB',\n",
    "    '2AB + C = D']\n",
    "\n",
    "mass_conservation = ['A + AB + 0.5D',\n",
    "                'B + AB + 0.5D']\n",
    "\n",
    "S = [10, 4]\n",
    "\n",
    "N, C, species = eq_system_builder(reactions, mass_conservation)\n",
    "\n",
    "print(N)\n",
    "\n",
    "print(C)\n"
   ]
  },
  {
   "cell_type": "code",
   "execution_count": null,
   "metadata": {},
   "outputs": [],
   "source": []
  },
  {
   "cell_type": "code",
   "execution_count": 180,
   "metadata": {},
   "outputs": [],
   "source": [
    "from math import floor, log10\n",
    "\n",
    "def sig_figs(x: float, precision: int):\n",
    "    \"\"\"\n",
    "    Code by Matt Gosden to round a float variable to number of significant figures\n",
    "    - x: the float to be rounded\n",
    "    - precision (integer): the number of significant figures\n",
    "    \"\"\"\n",
    "    x = float(x)\n",
    "    precision = int(precision)\n",
    "\n",
    "    return round(x, -int(floor(log10(abs(x)))) + (precision - 1))"
   ]
  },
  {
   "cell_type": "code",
   "execution_count": 179,
   "metadata": {},
   "outputs": [],
   "source": [
    "import re\n",
    "\n",
    "def eq_system_builder(eq, mass_conservation):\n",
    "      \"\"\"\n",
    "      Converts symbolic equations defining chemical reactions and mass conservations to matrix form suitable for the solver\n",
    "      Parameters:\n",
    "      - eq: list of reactions in symbolic form\n",
    "      - mass_conservation: list of mass conservations in symbolic form\n",
    "      \"\"\"\n",
    "            \n",
    "      N, n, species = define_reactions(eq)\n",
    "      C = define_conservations(mass_conservation, n, species)\n",
    "\n",
    "      return N, C, species"
   ]
  },
  {
   "cell_type": "code",
   "execution_count": 170,
   "metadata": {},
   "outputs": [],
   "source": [
    "reactions = ['A + 2B = AB2',\n",
    "    'AB2 + C = AB2C']\n",
    "\n",
    "K = [100, 10]\n",
    "\n",
    "reactions = ['2A + 2B = 2AB',\n",
    "    '2AB + C = D']\n",
    "\n",
    "mass_conservation = ['A + AB + 0.5D',\n",
    "                'B + AB + 0.5D']\n",
    "\n",
    "S = [10, 4]\n",
    "\n",
    "N, C, species = eq_system_builder(reactions, mass_conservation)\n"
   ]
  },
  {
   "cell_type": "code",
   "execution_count": 192,
   "metadata": {},
   "outputs": [
    {
     "name": "stdout",
     "output_type": "stream",
     "text": [
      "--- 4.686805937025283 milliseconds ---\n",
      "[[6.02567973 1.54737852 0.02567973 0.20271982 4.8538835 ]]\n"
     ]
    },
    {
     "data": {
      "image/png": "[encoded data removed]",
      "text/plain": [
       "<Figure size 432x288 with 1 Axes>"
      ]
     },
     "metadata": {
      "needs_background": "light"
     },
     "output_type": "display_data"
    }
   ],
   "source": [
    "\n",
    "r = 0\n",
    "start_time = time.time()\n",
    "for j in range(10):\n",
    "    x = np.ones((1,np.shape(N)[1]))\n",
    "    delta = []\n",
    "\n",
    "    x, delta_ = solver(N, K, C, S, np.ones((1,np.shape(N)[1])))\n",
    "    delta.append(delta_)\n",
    "\n",
    "    for i in range(10):\n",
    "        x, delta_ = solver(N, K, C, S, x)\n",
    "        delta.append(delta_)\n",
    "\n",
    "plt.plot(np.log10(delta))\n",
    "print(\"--- %s milliseconds ---\" % ((time.time() - start_time)/j*1000))\n",
    "print(x)"
   ]
  },
  {
   "cell_type": "code",
   "execution_count": 171,
   "metadata": {},
   "outputs": [
    {
     "data": {
      "image/png": "[encoded data removed]",
      "text/plain": [
       "<Figure size 432x288 with 1 Axes>"
      ]
     },
     "metadata": {
      "needs_background": "light"
     },
     "output_type": "display_data"
    }
   ],
   "source": [
    "plt.bar(np.arange(0, len(x[0])), x[0])\n",
    "plt.xticks(np.arange(0, len(x[0])), sorted(species, key=lambda x: species[x]));"
   ]
  },
  {
   "cell_type": "code",
   "execution_count": 190,
   "metadata": {},
   "outputs": [
    {
     "data": {
      "text/plain": [
       "array([[-2.,  2., -2.,  0.,  0.],\n",
       "       [ 0., -2.,  0., -1.,  1.]])"
      ]
     },
     "execution_count": 190,
     "metadata": {},
     "output_type": "execute_result"
    }
   ],
   "source": [
    "class ChemicalReaction:\n",
    "    def __init__(self, species, stoichiometry, eq_constants, mass_conservation, initial_masses):\n",
    "        self.species = species\n",
    "        self.N = stoichiometry\n",
    "        self.eq_constants = eq_constants\n",
    "        self.mass_conservation = mass_conservation\n",
    "        self.initial_masses = initial_masses\n",
    "\n",
    "    def testfun(self):\n",
    "        return self.species\n",
    "\n",
    "reaction = ChemicalReaction(species, N, K, C, S)\n",
    "reaction.eq_constants = [200,10]\n",
    "reaction.N\n",
    "\n",
    "#reaction.testfun()"
   ]
  },
  {
   "cell_type": "code",
   "execution_count": null,
   "metadata": {},
   "outputs": [],
   "source": []
  }
 ],
 "metadata": {
  "kernelspec": {
   "display_name": "venv",
   "language": "python",
   "name": "venv"
  },
  "language_info": {
   "codemirror_mode": {
    "name": "ipython",
    "version": 3
   },
   "file_extension": ".py",
   "mimetype": "text/x-python",
   "name": "python",
   "nbconvert_exporter": "python",
   "pygments_lexer": "ipython3",
   "version": "3.9.9"
  },
  "orig_nbformat": 4
 },
 "nbformat": 4,
 "nbformat_minor": 2
}
