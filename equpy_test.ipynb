{
 "cells": [
  {
   "cell_type": "code",
   "execution_count": 1,
   "metadata": {},
   "outputs": [
    {
     "data": {
      "text/plain": [
       "{'divide': 'warn', 'over': 'warn', 'under': 'ignore', 'invalid': 'warn'}"
      ]
     },
     "execution_count": 1,
     "metadata": {},
     "output_type": "execute_result"
    }
   ],
   "source": [
    "from equpy import ChemicalReaction, EquationSystem\n",
    "from utils import eq_system_builder\n",
    "import numpy as np\n",
    "import matplotlib.pyplot as plt\n",
    "import time\n",
    "np.seterr(invalid=\"ignore\")"
   ]
  },
  {
   "cell_type": "code",
   "execution_count": 2,
   "metadata": {},
   "outputs": [
    {
     "ename": "AttributeError",
     "evalue": "'tuple' object has no attribute 'species'",
     "output_type": "error",
     "traceback": [
      "\u001b[1;31m---------------------------------------------------------------------------\u001b[0m",
      "\u001b[1;31mAttributeError\u001b[0m                            Traceback (most recent call last)",
      "Cell \u001b[1;32mIn[2], line 14\u001b[0m\n\u001b[0;32m     12\u001b[0m S \u001b[38;5;241m=\u001b[39m [\u001b[38;5;241m1\u001b[39m,\u001b[38;5;241m2\u001b[39m,\u001b[38;5;241m3\u001b[39m]\n\u001b[0;32m     13\u001b[0m eq_system \u001b[38;5;241m=\u001b[39m eq_system_builder(reactions, mass_conservation)\n\u001b[1;32m---> 14\u001b[0m reaction \u001b[38;5;241m=\u001b[39m \u001b[43mChemicalReaction\u001b[49m\u001b[43m(\u001b[49m\u001b[43meq_system\u001b[49m\u001b[43m,\u001b[49m\u001b[43m \u001b[49m\u001b[43mK\u001b[49m\u001b[43m,\u001b[49m\u001b[43m \u001b[49m\u001b[43mS\u001b[49m\u001b[43m)\u001b[49m\n\u001b[0;32m     16\u001b[0m start_time \u001b[38;5;241m=\u001b[39m time\u001b[38;5;241m.\u001b[39mtime()\n\u001b[0;32m     17\u001b[0m \u001b[38;5;28;01mfor\u001b[39;00m j \u001b[38;5;129;01min\u001b[39;00m \u001b[38;5;28mrange\u001b[39m(\u001b[38;5;241m10000\u001b[39m):\n",
      "File \u001b[1;32mc:\\Users\\lcitelli\\personal-dev\\equipy\\equpy.py:33\u001b[0m, in \u001b[0;36mChemicalReaction.__init__\u001b[1;34m(self, equation_system, eq_constants, initial_masses)\u001b[0m\n\u001b[0;32m     30\u001b[0m     I \u001b[38;5;241m=\u001b[39m np\u001b[38;5;241m.\u001b[39mwhere(initial_masses \u001b[38;5;241m==\u001b[39m \u001b[38;5;241m0\u001b[39m)[\u001b[38;5;241m0\u001b[39m]\n\u001b[0;32m     31\u001b[0m     initial_masses[I] \u001b[38;5;241m=\u001b[39m \u001b[38;5;241m2.2e-16\u001b[39m\n\u001b[1;32m---> 33\u001b[0m \u001b[38;5;28mself\u001b[39m\u001b[38;5;241m.\u001b[39ms \u001b[38;5;241m=\u001b[39m \u001b[43mequation_system\u001b[49m\u001b[38;5;241;43m.\u001b[39;49m\u001b[43mspecies\u001b[49m\n\u001b[0;32m     34\u001b[0m \u001b[38;5;28mself\u001b[39m\u001b[38;5;241m.\u001b[39mN \u001b[38;5;241m=\u001b[39m equation_system\u001b[38;5;241m.\u001b[39mstoichiometry\n\u001b[0;32m     35\u001b[0m \u001b[38;5;28mself\u001b[39m\u001b[38;5;241m.\u001b[39mK \u001b[38;5;241m=\u001b[39m eq_constants\n",
      "\u001b[1;31mAttributeError\u001b[0m: 'tuple' object has no attribute 'species'"
     ]
    }
   ],
   "source": [
    "\"\"\"\n",
    "Example #1: Manual input of reactions in symbolic form\n",
    "\"\"\"\n",
    "reactions = ['A + 2B = AB2',\n",
    "    'AB2 + C = AB2C']\n",
    "\n",
    "mass_conservation = ['A + AB2 + AB2C',\n",
    "                'B + 2AB2 + 2AB2C',\n",
    "                'C + AB2C']\n",
    "\n",
    "K = [1, 10]\n",
    "S = [1,2,3]\n",
    "eq_system = EquationSystem(reactions, mass_conservation)\n",
    "reaction = ChemicalReaction(eq_system, K, S)\n",
    "\n",
    "start_time = time.time()\n",
    "for j in range(10000):\n",
    "    x, delta = reaction.solve(20, 1e2, 0)\n",
    "print(\"\")\n",
    "print(\"execution time --- %s milliseconds ---\" % ((time.time() - start_time)/j*1000))\n",
    "print(\"\")\n",
    "\n",
    "reaction.plotter()"
   ]
  },
  {
   "cell_type": "code",
   "execution_count": null,
   "metadata": {},
   "outputs": [
    {
     "ename": "ValueError",
     "evalue": "Composition violation (1: -4) in CH4 = 4H + C",
     "output_type": "error",
     "traceback": [
      "\u001b[0;31m---------------------------------------------------------------------------\u001b[0m",
      "\u001b[0;31mValueError\u001b[0m                                Traceback (most recent call last)",
      "\u001b[0;32m<ipython-input-21-4d60390fc042>\u001b[0m in \u001b[0;36m<module>\u001b[0;34m\u001b[0m\n\u001b[1;32m      7\u001b[0m \u001b[0mr1\u001b[0m \u001b[0;34m=\u001b[0m \u001b[0mEquilibrium\u001b[0m\u001b[0;34m(\u001b[0m\u001b[0;34m{\u001b[0m\u001b[0;34m'CH4P'\u001b[0m\u001b[0;34m}\u001b[0m\u001b[0;34m,\u001b[0m \u001b[0;34m{\u001b[0m\u001b[0;34m'CH4'\u001b[0m\u001b[0;34m,\u001b[0m \u001b[0;34m'P'\u001b[0m\u001b[0;34m}\u001b[0m\u001b[0;34m,\u001b[0m \u001b[0;36m10\u001b[0m\u001b[0;34m)\u001b[0m  \u001b[0;31m# same here\u001b[0m\u001b[0;34m\u001b[0m\u001b[0;34m\u001b[0m\u001b[0m\n\u001b[1;32m      8\u001b[0m \u001b[0msubstances\u001b[0m \u001b[0;34m=\u001b[0m \u001b[0;34m[\u001b[0m\u001b[0mSpecies\u001b[0m\u001b[0;34m.\u001b[0m\u001b[0mfrom_formula\u001b[0m\u001b[0;34m(\u001b[0m\u001b[0mf\u001b[0m\u001b[0;34m)\u001b[0m \u001b[0;32mfor\u001b[0m \u001b[0mf\u001b[0m \u001b[0;32min\u001b[0m \u001b[0;34m'C H CH4 CH4P'\u001b[0m\u001b[0;34m.\u001b[0m\u001b[0msplit\u001b[0m\u001b[0;34m(\u001b[0m\u001b[0;34m)\u001b[0m\u001b[0;34m]\u001b[0m\u001b[0;34m\u001b[0m\u001b[0;34m\u001b[0m\u001b[0m\n\u001b[0;32m----> 9\u001b[0;31m \u001b[0meqsys\u001b[0m \u001b[0;34m=\u001b[0m \u001b[0mEqSystem\u001b[0m\u001b[0;34m(\u001b[0m\u001b[0;34m[\u001b[0m\u001b[0mr0\u001b[0m\u001b[0;34m,\u001b[0m \u001b[0mr1\u001b[0m\u001b[0;34m]\u001b[0m\u001b[0;34m,\u001b[0m \u001b[0msubstances\u001b[0m\u001b[0;34m)\u001b[0m\u001b[0;34m\u001b[0m\u001b[0;34m\u001b[0m\u001b[0m\n\u001b[0m\u001b[1;32m     10\u001b[0m \u001b[0;34m\u001b[0m\u001b[0m\n\u001b[1;32m     11\u001b[0m \u001b[0mprint\u001b[0m\u001b[0;34m(\u001b[0m\u001b[0;34m'\\n'\u001b[0m\u001b[0;34m.\u001b[0m\u001b[0mjoin\u001b[0m\u001b[0;34m(\u001b[0m\u001b[0mmap\u001b[0m\u001b[0;34m(\u001b[0m\u001b[0mstr\u001b[0m\u001b[0;34m,\u001b[0m \u001b[0meqsys\u001b[0m\u001b[0;34m.\u001b[0m\u001b[0mrxns\u001b[0m\u001b[0;34m)\u001b[0m\u001b[0;34m)\u001b[0m\u001b[0;34m)\u001b[0m  \u001b[0;31m# \"rxns\" short for \"reactions\"\u001b[0m\u001b[0;34m\u001b[0m\u001b[0;34m\u001b[0m\u001b[0m\n",
      "\u001b[0;32m/usr/local/lib/python3.9/site-packages/chempy/reactionsystem.py\u001b[0m in \u001b[0;36m__init__\u001b[0;34m(self, rxns, substances, name, checks, dont_check, substance_factory, missing_substances_from_keys, sort_substances)\u001b[0m\n\u001b[1;32m    119\u001b[0m             \u001b[0mchecks\u001b[0m \u001b[0;34m=\u001b[0m \u001b[0mself\u001b[0m\u001b[0;34m.\u001b[0m\u001b[0mdefault_checks\u001b[0m \u001b[0;34m^\u001b[0m \u001b[0;34m(\u001b[0m\u001b[0mdont_check\u001b[0m \u001b[0;32mor\u001b[0m \u001b[0mset\u001b[0m\u001b[0;34m(\u001b[0m\u001b[0;34m)\u001b[0m\u001b[0;34m)\u001b[0m\u001b[0;34m\u001b[0m\u001b[0;34m\u001b[0m\u001b[0m\n\u001b[1;32m    120\u001b[0m         \u001b[0;32mfor\u001b[0m \u001b[0mcheck\u001b[0m \u001b[0;32min\u001b[0m \u001b[0mchecks\u001b[0m\u001b[0;34m:\u001b[0m\u001b[0;34m\u001b[0m\u001b[0;34m\u001b[0m\u001b[0m\n\u001b[0;32m--> 121\u001b[0;31m             \u001b[0mgetattr\u001b[0m\u001b[0;34m(\u001b[0m\u001b[0mself\u001b[0m\u001b[0;34m,\u001b[0m \u001b[0;34m\"check_\"\u001b[0m \u001b[0;34m+\u001b[0m \u001b[0mcheck\u001b[0m\u001b[0;34m)\u001b[0m\u001b[0;34m(\u001b[0m\u001b[0mthrow\u001b[0m\u001b[0;34m=\u001b[0m\u001b[0;32mTrue\u001b[0m\u001b[0;34m)\u001b[0m\u001b[0;34m\u001b[0m\u001b[0;34m\u001b[0m\u001b[0m\n\u001b[0m\u001b[1;32m    122\u001b[0m \u001b[0;34m\u001b[0m\u001b[0m\n\u001b[1;32m    123\u001b[0m         \u001b[0;32mif\u001b[0m \u001b[0msort_substances\u001b[0m\u001b[0;34m:\u001b[0m\u001b[0;34m\u001b[0m\u001b[0;34m\u001b[0m\u001b[0m\n",
      "\u001b[0;32m/usr/local/lib/python3.9/site-packages/chempy/reactionsystem.py\u001b[0m in \u001b[0;36mcheck_balance\u001b[0;34m(self, strict, throw)\u001b[0m\n\u001b[1;32m    346\u001b[0m                 \u001b[0;32mif\u001b[0m \u001b[0mnet\u001b[0m \u001b[0;34m!=\u001b[0m \u001b[0;36m0\u001b[0m\u001b[0;34m:\u001b[0m\u001b[0;34m\u001b[0m\u001b[0;34m\u001b[0m\u001b[0m\n\u001b[1;32m    347\u001b[0m                     \u001b[0;32mif\u001b[0m \u001b[0mthrow\u001b[0m\u001b[0;34m:\u001b[0m\u001b[0;34m\u001b[0m\u001b[0;34m\u001b[0m\u001b[0m\n\u001b[0;32m--> 348\u001b[0;31m                         raise ValueError(\n\u001b[0m\u001b[1;32m    349\u001b[0m                             \u001b[0;34m\"Composition violation (%s: %s) in %s\"\u001b[0m\u001b[0;34m\u001b[0m\u001b[0;34m\u001b[0m\u001b[0m\n\u001b[1;32m    350\u001b[0m                             \u001b[0;34m%\u001b[0m \u001b[0;34m(\u001b[0m\u001b[0mk\u001b[0m\u001b[0;34m,\u001b[0m \u001b[0mnet\u001b[0m\u001b[0;34m,\u001b[0m \u001b[0mrxn\u001b[0m\u001b[0;34m.\u001b[0m\u001b[0mstring\u001b[0m\u001b[0;34m(\u001b[0m\u001b[0mwith_param\u001b[0m\u001b[0;34m=\u001b[0m\u001b[0;32mFalse\u001b[0m\u001b[0;34m,\u001b[0m \u001b[0mwith_name\u001b[0m\u001b[0;34m=\u001b[0m\u001b[0;32mFalse\u001b[0m\u001b[0;34m)\u001b[0m\u001b[0;34m)\u001b[0m\u001b[0;34m\u001b[0m\u001b[0;34m\u001b[0m\u001b[0m\n",
      "\u001b[0;31mValueError\u001b[0m: Composition violation (1: -4) in CH4 = 4H + C"
     ]
    }
   ],
   "source": [
    "from chempy import Equilibrium\n",
    "from chempy.chemistry import Species\n",
    "from chempy.equilibria import EqSystem\n",
    "from collections import defaultdict\n",
    "\n",
    "r0 = Equilibrium({'CH4'}, {'C', '4H'}, 1)  # unit \"molar\" assumed\n",
    "r1 = Equilibrium({'CH4P'}, {'CH4', 'P'}, 10)  # same here\n",
    "substances = [Species.from_formula(f) for f in 'C H CH4 CH4P'.split()]\n",
    "eqsys = EqSystem([r0, r1], substances)\n",
    "\n",
    "print('\\n'.join(map(str, eqsys.rxns)))  # \"rxns\" short for \"reactions\"\n",
    "init_conc = defaultdict(float, {'C': 1, 'H': 2, 'P': 3})\n",
    "x, sol, sane = eqsys.root(init_conc)\n",
    "assert sol['success'] and sane\n",
    "print(', '.join('%.2g' % v for v in x))\n"
   ]
  },
  {
   "cell_type": "code",
   "execution_count": null,
   "metadata": {},
   "outputs": [
    {
     "name": "stdout",
     "output_type": "stream",
     "text": [
      "H2O = H+ + OH-; 1e-14\n",
      "NH4+ = H+ + NH3; 5.75e-10\n",
      "\n",
      "execution time --- 10.820120065897196 milliseconds ---\n",
      "\n",
      "1, 0.0013, 7.6e-12, 0.099, 0.0013\n"
     ]
    }
   ],
   "source": [
    "from chempy import Equilibrium\n",
    "from chempy.chemistry import Species\n",
    "water_autop = Equilibrium({'H2O'}, {'H+', 'OH-'}, 10**-14)  # unit \"molar\" assumed\n",
    "ammonia_prot = Equilibrium({'NH4+'}, {'NH3', 'H+'}, 10**-9.24)  # same here\n",
    "substances = [Species.from_formula(f) for f in 'H2O OH- H+ NH3 NH4+'.split()]\n",
    "eqsys = EqSystem([water_autop, ammonia_prot], substances)\n",
    "print('\\n'.join(map(str, eqsys.rxns)))  # \"rxns\" short for \"reactions\"\n",
    "\n",
    "init_conc = defaultdict(float, {'H2O': 1, 'NH3': 0.1})\n",
    "\n",
    "start_time = time.time()\n",
    "for i in range(1000):\n",
    "    x, sol, sane = eqsys.root(init_conc)\n",
    "print(\"\")\n",
    "print(\"execution time --- %s milliseconds ---\" % ((time.time() - start_time)/i*1000))\n",
    "print(\"\")\n",
    "\n",
    "assert sol['success'] and sane\n",
    "print(', '.join('%.2g' % v for v in x))\n"
   ]
  },
  {
   "cell_type": "code",
   "execution_count": null,
   "metadata": {},
   "outputs": [
    {
     "data": {
      "text/plain": [
       "1.0"
      ]
     },
     "execution_count": 27,
     "metadata": {},
     "output_type": "execute_result"
    }
   ],
   "source": [
    "x[0]+1*x[2]+1*x[4]"
   ]
  },
  {
   "cell_type": "code",
   "execution_count": null,
   "metadata": {},
   "outputs": [
    {
     "data": {
      "text/html": [
       "<table class=\"chempy_ReactionSystem chempy_4892369008\"><tr><th style=\"text-align:center;\" colspan=\"5\"></th></tr><tr class=\"chempy_4892369008_0\"><td style=\"text-align:right;\"><span class=\"chempy_H2O\" style=\"border-radius: 5pt; padding: 0pt 3pt 0pt 3pt;\">H<sub>2</sub>O</span></td><td style=\"text-align:center;\">&harr;</td><td style=\"text-align:left;\"><span class=\"chempy_Hplus\" style=\"border-radius: 5pt; padding: 0pt 3pt 0pt 3pt;\">H<sup>+</sup></span> + <span class=\"chempy_OHminus\" style=\"border-radius: 5pt; padding: 0pt 3pt 0pt 3pt;\">OH<sup>-</sup></span></td><td style=\"text-align:left;\">&nbsp;10<sup>-14</sup></td></tr>\n",
       "\n",
       "<tr class=\"chempy_4892369008_1\"><td style=\"text-align:right;\"><span class=\"chempy_NH4plus\" style=\"border-radius: 5pt; padding: 0pt 3pt 0pt 3pt;\">NH<sub>4</sub><sup>+</sup></span></td><td style=\"text-align:center;\">&harr;</td><td style=\"text-align:left;\"><span class=\"chempy_Hplus\" style=\"border-radius: 5pt; padding: 0pt 3pt 0pt 3pt;\">H<sup>+</sup></span> + <span class=\"chempy_NH3\" style=\"border-radius: 5pt; padding: 0pt 3pt 0pt 3pt;\">NH<sub>3</sub></span></td><td style=\"text-align:left;\">&nbsp;5.7544&sdot;10<sup>-10</sup></td></tr></table><script type=\"text/javascript\">\n",
       "var cls_names_substances = [\"chempy_H2O\", \"chempy_OHminus\", \"chempy_Hplus\", \"chempy_NH3\", \"chempy_NH4plus\"];\n",
       "var substance_row_cls_irrel = {\"chempy_H2O\": [\"chempy_4892369008_1\"], \"chempy_OHminus\": [\"chempy_4892369008_1\"], \"chempy_Hplus\": [], \"chempy_NH3\": [\"chempy_4892369008_0\"], \"chempy_NH4plus\": [\"chempy_4892369008_0\"]};\n",
       "var elms = {};\n",
       "var n = {}, nsubstances = cls_names_substances.length;\n",
       "var nirrel = {};\n",
       "function changeColor(classname, color) {\n",
       "    var curN = n[classname];\n",
       "    for(var i = 0; i < curN; i++) {\n",
       "        elms[classname][i].style.backgroundColor = color;\n",
       "    }\n",
       "}\n",
       "function toggleVisibility(classname_substance) {\n",
       "    var curN = nirrel[classname_substance];\n",
       "    for (var i=0; i<curN; i++) {\n",
       "        var objs = document.getElementsByClassName(substance_row_cls_irrel[classname_substance][i]);\n",
       "        for (var j=0; j<objs.length; ++j){\n",
       "            objs[j].style.display = objs[j].style.display == \"none\" ? \"table-row\" : \"none\";\n",
       "        }\n",
       "    }\n",
       "}\n",
       "function resetTab(tab){\n",
       "    tab.style.border = \"0px\";\n",
       "    var rows = tab.getElementsByTagName('tr');\n",
       "    [].forEach.call(rows, function(row){\n",
       "        row.style.display = \"table-row\";\n",
       "    });\n",
       "    tab.getElementsByTagName('th')[0].innerHTML = tab.ori_header +\n",
       "        \"<br>(click on species to show a subset of reactions)\";\n",
       "};\n",
       "\n",
       "for(var k = 0; k < nsubstances; k++) {\n",
       "    var curClass = cls_names_substances[k];\n",
       "    var curIrrel = substance_row_cls_irrel[k];\n",
       "    elms[curClass] = document.getElementsByClassName(curClass);\n",
       "    n[curClass] = elms[curClass].length;\n",
       "    nirrel[curClass] = substance_row_cls_irrel[curClass].length;\n",
       "    var curN = n[curClass];\n",
       "    for(var i = 0; i < curN; i++) {\n",
       "        elms[curClass][i].onmouseover = function() {\n",
       "            changeColor(this.className, \"LightBlue\");\n",
       "        };\n",
       "        elms[curClass][i].onmouseout = function() {\n",
       "            changeColor(this.className, \"inherit\");\n",
       "        };\n",
       "        elms[curClass][i].onclick = function() {\n",
       "            var tab = this.closest(\"table\");\n",
       "            resetTab(tab);\n",
       "            tab.style.border = \"1px dashed #000000\";\n",
       "            toggleVisibility(this.className);\n",
       "            tab.getElementsByTagName('th')[0].innerHTML = tab.ori_header +\n",
       "                 \"<br>Only showing reactions involving: \" + this.innerHTML +\n",
       "                 \" (double-click to reset)\";\n",
       "        };\n",
       "    }\n",
       "};\n",
       "var chempy_tabs = document.querySelectorAll('table.chempy_4892369008');\n",
       "[].forEach.call(chempy_tabs, function(tab){\n",
       "    tab.ori_header = tab.getElementsByTagName('th')[0].innerHTML;\n",
       "    tab.ondblclick = function(){\n",
       "        resetTab(this);\n",
       "        this.scrollIntoView();\n",
       "    };\n",
       "});\n",
       "[].forEach.call(chempy_tabs, function(tab){\n",
       "    resetTab(tab);\n",
       "});\n",
       "</script>"
      ],
      "text/plain": [
       "<chempy.equilibria.EqSystem at 0x1239ba070>"
      ]
     },
     "execution_count": 41,
     "metadata": {},
     "output_type": "execute_result"
    }
   ],
   "source": [
    "eqsys"
   ]
  },
  {
   "cell_type": "code",
   "execution_count": null,
   "metadata": {},
   "outputs": [
    {
     "name": "stderr",
     "output_type": "stream",
     "text": [
      "<ipython-input-59-421bb91c0b99>:18: UserWarning: Tolerance not reached. Manually check if the result is satisfying. Either change starting point, increase iterations or weight.\n",
      "  x, delta = reaction.solve(20, 1e2, 0.5)\n"
     ]
    },
    {
     "name": "stdout",
     "output_type": "stream",
     "text": [
      "\n",
      "execution time --- 1.7422391129685595 milliseconds ---\n",
      "\n",
      "[7.56399029e-12 9.98707581e-01 9.87076775e-02 1.29748365e-03\n",
      " 1.32034488e-03]\n"
     ]
    },
    {
     "data": {
      "image/png": "[encoded data removed]",
      "text/plain": [
       "<Figure size 1080x360 with 2 Axes>"
      ]
     },
     "metadata": {
      "needs_background": "light"
     },
     "output_type": "display_data"
    }
   ],
   "source": [
    "\"\"\"\n",
    "Example #1: Manual input of reactions in symbolic form\n",
    "\"\"\"\n",
    "reactions = ['OH + H = H2O',\n",
    "    'NH3 + H = NH4']\n",
    "\n",
    "mass_conservation = ['H2O + OH',\n",
    "                     'H2O + H + NH4',\n",
    "                     'NH3 + NH4']\n",
    "\n",
    "K = [1e14, 10**(9.24)]\n",
    "S = [1, 1, 0.1]\n",
    "N, C, species = eq_system_builder(reactions, mass_conservation)\n",
    "reaction = ChemicalReaction(species, N, K, C, S)\n",
    "\n",
    "start_time = time.time()\n",
    "for j in range(1000):\n",
    "    x, delta = reaction.solve(20, 1e2, 0.5)\n",
    "print(\"\")\n",
    "print(\"execution time --- %s milliseconds ---\" % ((time.time() - start_time)/j*1000))\n",
    "print(\"\")\n",
    "\n",
    "print(x)\n",
    "\n",
    "reaction.plotter()"
   ]
  },
  {
   "cell_type": "code",
   "execution_count": null,
   "metadata": {},
   "outputs": [
    {
     "data": {
      "image/png": "[encoded data removed]",
      "text/plain": [
       "<Figure size 432x288 with 1 Axes>"
      ]
     },
     "metadata": {
      "needs_background": "light"
     },
     "output_type": "display_data"
    },
    {
     "data": {
      "image/png": "[encoded data removed]",
      "text/plain": [
       "<Figure size 432x288 with 1 Axes>"
      ]
     },
     "metadata": {
      "needs_background": "light"
     },
     "output_type": "display_data"
    }
   ],
   "source": [
    "plt.scatter([1, 0.0013, 7.6e-12, 0.099, 0.0013], [x[1], x[4], x[0], x[2], x[3]])\n",
    "plt.xscale('log')\n",
    "plt.yscale('log')\n",
    "plt.show()\n",
    "\n",
    "chempy_x = np.array([1, 0.0013, 7.6e-12, 0.099, 0.0013])\n",
    "my_x = np.array([x[1], x[4], x[0], x[2], x[3]])\n",
    "\n",
    "plt.bar(np.arange(len(x)) - 0.2, chempy_x, 0.4)\n",
    "plt.bar(np.arange(len(x)) + 0.2, my_x, 0.4)\n",
    "plt.show()"
   ]
  },
  {
   "cell_type": "code",
   "execution_count": null,
   "metadata": {},
   "outputs": [
    {
     "data": {
      "text/plain": [
       "array([[-1.,  1.,  0.,  0., -1.],\n",
       "       [-1.,  0., -1.,  1.,  0.]])"
      ]
     },
     "execution_count": 57,
     "metadata": {},
     "output_type": "execute_result"
    }
   ],
   "source": [
    "N"
   ]
  },
  {
   "cell_type": "code",
   "execution_count": null,
   "metadata": {},
   "outputs": [],
   "source": []
  },
  {
   "cell_type": "code",
   "execution_count": null,
   "metadata": {},
   "outputs": [
    {
     "data": {
      "text/plain": [
       "3.9340160012851723e-16"
      ]
     },
     "execution_count": 18,
     "metadata": {},
     "output_type": "execute_result"
    },
    {
     "data": {
      "image/png": "[encoded data removed]",
      "text/plain": [
       "<Figure size 1080x360 with 2 Axes>"
      ]
     },
     "metadata": {
      "needs_background": "light"
     },
     "output_type": "display_data"
    }
   ],
   "source": [
    "from equpy import ChemicalReaction\n",
    "from utils import eq_system_builder\n",
    "import numpy as np\n",
    "import matplotlib.pyplot as plt\n",
    "import time\n",
    "np.seterr(invalid=\"ignore\");\n",
    "\n",
    "\"\"\"\n",
    "Example #2: Manual input of reactions in matrix form\n",
    "\"\"\"\n",
    "N = np.array([[-1, -2, 0, 1, 0],[0, 0, -1, -1, 1]])\n",
    "K = np.array([1, 10])\n",
    "S = np.array([1, 2, 3])\n",
    "C = np.array([[1, 0, 0, 1, 1],[0, 1, 0, 2, 2],[0, 0, 1, 0, 1]])\n",
    "\n",
    "reaction = ChemicalReaction({'A':0, 'B':1, 'C':2, 'AB2':3, 'AB2C':4}, N, K, C, S)\n",
    "x, delta = reaction.solve(30, 1e2, 0)\n",
    "reaction.plotter()\n",
    "\n",
    "np.linalg.norm(np.log(x)*1e-16)"
   ]
  },
  {
   "cell_type": "code",
   "execution_count": null,
   "metadata": {},
   "outputs": [
    {
     "name": "stderr",
     "output_type": "stream",
     "text": [
      "<ipython-input-58-a738838c3c25>:21: UserWarning: Tolerance not reached. Manually check if the result is satisfying. Either change starting point, increase iterations or weight.\n",
      "  x, delta = reaction.solve(1e1, 1e2, 2)\n"
     ]
    },
    {
     "name": "stdout",
     "output_type": "stream",
     "text": [
      "\n",
      "execution time --- 2.380027188672437 milliseconds ---\n",
      "\n"
     ]
    },
    {
     "data": {
      "text/plain": [
       "4.674505408407166e-15"
      ]
     },
     "execution_count": 58,
     "metadata": {},
     "output_type": "execute_result"
    },
    {
     "data": {
      "image/png": "[encoded data removed]",
      "text/plain": [
       "<Figure size 1080x360 with 2 Axes>"
      ]
     },
     "metadata": {
      "needs_background": "light"
     },
     "output_type": "display_data"
    }
   ],
   "source": [
    "\"\"\"\n",
    "Example #3: Load reactions in matrix form from .csv file\n",
    "\"\"\"\n",
    "from utils import csv_loader\n",
    "np.seterr(invalid=\"ignore\");\n",
    "\n",
    "filename_N = '/Users/todisco/Documents/Numerical_Wall_Implementation_Custom/case2/N.csv'\n",
    "filename_C = '/Users/todisco/Documents/Numerical_Wall_Implementation_Custom/case2/C.csv'\n",
    "\n",
    "N, K, C, S = csv_loader(filename_N, filename_C)\n",
    "\n",
    "S = [10, 0.5, 1, 0.01, 1, 20]\n",
    "\n",
    "lbls = ['o1', 'o1aa', 'o2', 'o2im', 'o3', 'o1o2', 'o1aao2', 'o1o2im', 'o1aao2im', 'o2o3', 'o2imo3', 'o1o2o3','o1aao2o3','o1o2imo3','o1aao2imo3','o1o2_','o1o2_o3'];\n",
    "species = {i:lbl for lbl, i in enumerate(lbls)}\n",
    "\n",
    "reaction = ChemicalReaction(species, N, K, C, S)\n",
    "\n",
    "start_time = time.time()\n",
    "for i in range(1000):\n",
    "    x, delta = reaction.solve(1e1, 1e2, 2)\n",
    "print(\"\")\n",
    "print(\"execution time --- %s milliseconds ---\" % ((time.time() - start_time)/i*1000))\n",
    "print(\"\")\n",
    "\n",
    "reaction.plotter()\n",
    "\n",
    "np.linalg.norm(np.log(x)*1e-16)"
   ]
  },
  {
   "cell_type": "code",
   "execution_count": null,
   "metadata": {},
   "outputs": [
    {
     "data": {
      "text/plain": [
       "[1, 1, 0.1]"
      ]
     },
     "execution_count": 63,
     "metadata": {},
     "output_type": "execute_result"
    }
   ],
   "source": [
    "S"
   ]
  },
  {
   "cell_type": "code",
   "execution_count": null,
   "metadata": {},
   "outputs": [],
   "source": []
  }
 ],
 "metadata": {
  "kernelspec": {
   "display_name": ".venv",
   "language": "python",
   "name": "python3"
  },
  "language_info": {
   "codemirror_mode": {
    "name": "ipython",
    "version": 3
   },
   "file_extension": ".py",
   "mimetype": "text/x-python",
   "name": "python",
   "nbconvert_exporter": "python",
   "pygments_lexer": "ipython3",
   "version": "3.11.3"
  },
  "orig_nbformat": 4
 },
 "nbformat": 4,
 "nbformat_minor": 2
}
